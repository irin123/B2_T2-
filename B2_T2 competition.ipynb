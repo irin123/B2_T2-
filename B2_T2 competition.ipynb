{
 "cells": [
  {
   "cell_type": "code",
   "execution_count": 1,
   "id": "14012e98",
   "metadata": {},
   "outputs": [],
   "source": [
    "import pandas as pd\n",
    "import numpy as np\n",
    "import matplotlib.pyplot as plt\n",
    "import seaborn as sns"
   ]
  },
  {
   "cell_type": "code",
   "execution_count": 2,
   "id": "4108f37d",
   "metadata": {},
   "outputs": [],
   "source": [
    "df=pd.read_csv('aug_train.csv')"
   ]
  },
  {
   "cell_type": "code",
   "execution_count": 3,
   "id": "c411e008",
   "metadata": {},
   "outputs": [
    {
     "data": {
      "text/html": [
       "<div>\n",
       "<style scoped>\n",
       "    .dataframe tbody tr th:only-of-type {\n",
       "        vertical-align: middle;\n",
       "    }\n",
       "\n",
       "    .dataframe tbody tr th {\n",
       "        vertical-align: top;\n",
       "    }\n",
       "\n",
       "    .dataframe thead th {\n",
       "        text-align: right;\n",
       "    }\n",
       "</style>\n",
       "<table border=\"1\" class=\"dataframe\">\n",
       "  <thead>\n",
       "    <tr style=\"text-align: right;\">\n",
       "      <th></th>\n",
       "      <th>enrollee_id</th>\n",
       "      <th>city</th>\n",
       "      <th>city_development_index</th>\n",
       "      <th>gender</th>\n",
       "      <th>relevent_experience</th>\n",
       "      <th>enrolled_university</th>\n",
       "      <th>education_level</th>\n",
       "      <th>major_discipline</th>\n",
       "      <th>experience</th>\n",
       "      <th>company_size</th>\n",
       "      <th>company_type</th>\n",
       "      <th>last_new_job</th>\n",
       "      <th>training_hours</th>\n",
       "      <th>target</th>\n",
       "    </tr>\n",
       "  </thead>\n",
       "  <tbody>\n",
       "    <tr>\n",
       "      <th>0</th>\n",
       "      <td>8949</td>\n",
       "      <td>city_103</td>\n",
       "      <td>0.920</td>\n",
       "      <td>Male</td>\n",
       "      <td>Has relevent experience</td>\n",
       "      <td>no_enrollment</td>\n",
       "      <td>Graduate</td>\n",
       "      <td>STEM</td>\n",
       "      <td>&gt;20</td>\n",
       "      <td>NaN</td>\n",
       "      <td>NaN</td>\n",
       "      <td>1</td>\n",
       "      <td>36</td>\n",
       "      <td>1.0</td>\n",
       "    </tr>\n",
       "    <tr>\n",
       "      <th>1</th>\n",
       "      <td>29725</td>\n",
       "      <td>city_40</td>\n",
       "      <td>0.776</td>\n",
       "      <td>Male</td>\n",
       "      <td>No relevent experience</td>\n",
       "      <td>no_enrollment</td>\n",
       "      <td>Graduate</td>\n",
       "      <td>STEM</td>\n",
       "      <td>15</td>\n",
       "      <td>50-99</td>\n",
       "      <td>Pvt Ltd</td>\n",
       "      <td>&gt;4</td>\n",
       "      <td>47</td>\n",
       "      <td>0.0</td>\n",
       "    </tr>\n",
       "    <tr>\n",
       "      <th>2</th>\n",
       "      <td>11561</td>\n",
       "      <td>city_21</td>\n",
       "      <td>0.624</td>\n",
       "      <td>NaN</td>\n",
       "      <td>No relevent experience</td>\n",
       "      <td>Full time course</td>\n",
       "      <td>Graduate</td>\n",
       "      <td>STEM</td>\n",
       "      <td>5</td>\n",
       "      <td>NaN</td>\n",
       "      <td>NaN</td>\n",
       "      <td>never</td>\n",
       "      <td>83</td>\n",
       "      <td>0.0</td>\n",
       "    </tr>\n",
       "    <tr>\n",
       "      <th>3</th>\n",
       "      <td>33241</td>\n",
       "      <td>city_115</td>\n",
       "      <td>0.789</td>\n",
       "      <td>NaN</td>\n",
       "      <td>No relevent experience</td>\n",
       "      <td>NaN</td>\n",
       "      <td>Graduate</td>\n",
       "      <td>Business Degree</td>\n",
       "      <td>&lt;1</td>\n",
       "      <td>NaN</td>\n",
       "      <td>Pvt Ltd</td>\n",
       "      <td>never</td>\n",
       "      <td>52</td>\n",
       "      <td>1.0</td>\n",
       "    </tr>\n",
       "    <tr>\n",
       "      <th>4</th>\n",
       "      <td>666</td>\n",
       "      <td>city_162</td>\n",
       "      <td>0.767</td>\n",
       "      <td>Male</td>\n",
       "      <td>Has relevent experience</td>\n",
       "      <td>no_enrollment</td>\n",
       "      <td>Masters</td>\n",
       "      <td>STEM</td>\n",
       "      <td>&gt;20</td>\n",
       "      <td>50-99</td>\n",
       "      <td>Funded Startup</td>\n",
       "      <td>4</td>\n",
       "      <td>8</td>\n",
       "      <td>0.0</td>\n",
       "    </tr>\n",
       "  </tbody>\n",
       "</table>\n",
       "</div>"
      ],
      "text/plain": [
       "   enrollee_id      city  city_development_index gender  \\\n",
       "0         8949  city_103                   0.920   Male   \n",
       "1        29725   city_40                   0.776   Male   \n",
       "2        11561   city_21                   0.624    NaN   \n",
       "3        33241  city_115                   0.789    NaN   \n",
       "4          666  city_162                   0.767   Male   \n",
       "\n",
       "       relevent_experience enrolled_university education_level  \\\n",
       "0  Has relevent experience       no_enrollment        Graduate   \n",
       "1   No relevent experience       no_enrollment        Graduate   \n",
       "2   No relevent experience    Full time course        Graduate   \n",
       "3   No relevent experience                 NaN        Graduate   \n",
       "4  Has relevent experience       no_enrollment         Masters   \n",
       "\n",
       "  major_discipline experience company_size    company_type last_new_job  \\\n",
       "0             STEM        >20          NaN             NaN            1   \n",
       "1             STEM         15        50-99         Pvt Ltd           >4   \n",
       "2             STEM          5          NaN             NaN        never   \n",
       "3  Business Degree         <1          NaN         Pvt Ltd        never   \n",
       "4             STEM        >20        50-99  Funded Startup            4   \n",
       "\n",
       "   training_hours  target  \n",
       "0              36     1.0  \n",
       "1              47     0.0  \n",
       "2              83     0.0  \n",
       "3              52     1.0  \n",
       "4               8     0.0  "
      ]
     },
     "execution_count": 3,
     "metadata": {},
     "output_type": "execute_result"
    }
   ],
   "source": [
    "df.head()"
   ]
  },
  {
   "cell_type": "code",
   "execution_count": 4,
   "id": "f877b797",
   "metadata": {},
   "outputs": [
    {
     "data": {
      "text/plain": [
       "(19158, 14)"
      ]
     },
     "execution_count": 4,
     "metadata": {},
     "output_type": "execute_result"
    }
   ],
   "source": [
    "df.shape"
   ]
  },
  {
   "cell_type": "code",
   "execution_count": 5,
   "id": "5463be89",
   "metadata": {},
   "outputs": [
    {
     "name": "stdout",
     "output_type": "stream",
     "text": [
      "<class 'pandas.core.frame.DataFrame'>\n",
      "RangeIndex: 19158 entries, 0 to 19157\n",
      "Data columns (total 14 columns):\n",
      " #   Column                  Non-Null Count  Dtype  \n",
      "---  ------                  --------------  -----  \n",
      " 0   enrollee_id             19158 non-null  int64  \n",
      " 1   city                    19158 non-null  object \n",
      " 2   city_development_index  19158 non-null  float64\n",
      " 3   gender                  14650 non-null  object \n",
      " 4   relevent_experience     19158 non-null  object \n",
      " 5   enrolled_university     18772 non-null  object \n",
      " 6   education_level         18698 non-null  object \n",
      " 7   major_discipline        16345 non-null  object \n",
      " 8   experience              19093 non-null  object \n",
      " 9   company_size            13220 non-null  object \n",
      " 10  company_type            13018 non-null  object \n",
      " 11  last_new_job            18735 non-null  object \n",
      " 12  training_hours          19158 non-null  int64  \n",
      " 13  target                  19158 non-null  float64\n",
      "dtypes: float64(2), int64(2), object(10)\n",
      "memory usage: 2.0+ MB\n"
     ]
    }
   ],
   "source": [
    "df.info()"
   ]
  },
  {
   "cell_type": "code",
   "execution_count": 6,
   "id": "6ed1679d",
   "metadata": {},
   "outputs": [
    {
     "data": {
      "text/html": [
       "<div>\n",
       "<style scoped>\n",
       "    .dataframe tbody tr th:only-of-type {\n",
       "        vertical-align: middle;\n",
       "    }\n",
       "\n",
       "    .dataframe tbody tr th {\n",
       "        vertical-align: top;\n",
       "    }\n",
       "\n",
       "    .dataframe thead th {\n",
       "        text-align: right;\n",
       "    }\n",
       "</style>\n",
       "<table border=\"1\" class=\"dataframe\">\n",
       "  <thead>\n",
       "    <tr style=\"text-align: right;\">\n",
       "      <th></th>\n",
       "      <th>enrollee_id</th>\n",
       "      <th>city_development_index</th>\n",
       "      <th>training_hours</th>\n",
       "      <th>target</th>\n",
       "    </tr>\n",
       "  </thead>\n",
       "  <tbody>\n",
       "    <tr>\n",
       "      <th>count</th>\n",
       "      <td>19158.000000</td>\n",
       "      <td>19158.000000</td>\n",
       "      <td>19158.000000</td>\n",
       "      <td>19158.000000</td>\n",
       "    </tr>\n",
       "    <tr>\n",
       "      <th>mean</th>\n",
       "      <td>16875.358179</td>\n",
       "      <td>0.828848</td>\n",
       "      <td>65.366896</td>\n",
       "      <td>0.249348</td>\n",
       "    </tr>\n",
       "    <tr>\n",
       "      <th>std</th>\n",
       "      <td>9616.292592</td>\n",
       "      <td>0.123362</td>\n",
       "      <td>60.058462</td>\n",
       "      <td>0.432647</td>\n",
       "    </tr>\n",
       "    <tr>\n",
       "      <th>min</th>\n",
       "      <td>1.000000</td>\n",
       "      <td>0.448000</td>\n",
       "      <td>1.000000</td>\n",
       "      <td>0.000000</td>\n",
       "    </tr>\n",
       "    <tr>\n",
       "      <th>25%</th>\n",
       "      <td>8554.250000</td>\n",
       "      <td>0.740000</td>\n",
       "      <td>23.000000</td>\n",
       "      <td>0.000000</td>\n",
       "    </tr>\n",
       "    <tr>\n",
       "      <th>50%</th>\n",
       "      <td>16982.500000</td>\n",
       "      <td>0.903000</td>\n",
       "      <td>47.000000</td>\n",
       "      <td>0.000000</td>\n",
       "    </tr>\n",
       "    <tr>\n",
       "      <th>75%</th>\n",
       "      <td>25169.750000</td>\n",
       "      <td>0.920000</td>\n",
       "      <td>88.000000</td>\n",
       "      <td>0.000000</td>\n",
       "    </tr>\n",
       "    <tr>\n",
       "      <th>max</th>\n",
       "      <td>33380.000000</td>\n",
       "      <td>0.949000</td>\n",
       "      <td>336.000000</td>\n",
       "      <td>1.000000</td>\n",
       "    </tr>\n",
       "  </tbody>\n",
       "</table>\n",
       "</div>"
      ],
      "text/plain": [
       "        enrollee_id  city_development_index  training_hours        target\n",
       "count  19158.000000            19158.000000    19158.000000  19158.000000\n",
       "mean   16875.358179                0.828848       65.366896      0.249348\n",
       "std     9616.292592                0.123362       60.058462      0.432647\n",
       "min        1.000000                0.448000        1.000000      0.000000\n",
       "25%     8554.250000                0.740000       23.000000      0.000000\n",
       "50%    16982.500000                0.903000       47.000000      0.000000\n",
       "75%    25169.750000                0.920000       88.000000      0.000000\n",
       "max    33380.000000                0.949000      336.000000      1.000000"
      ]
     },
     "execution_count": 6,
     "metadata": {},
     "output_type": "execute_result"
    }
   ],
   "source": [
    "df.describe()"
   ]
  },
  {
   "cell_type": "code",
   "execution_count": 7,
   "id": "e7181659",
   "metadata": {},
   "outputs": [
    {
     "data": {
      "text/plain": [
       "enrollee_id                  0\n",
       "city                         0\n",
       "city_development_index       0\n",
       "gender                    4508\n",
       "relevent_experience          0\n",
       "enrolled_university        386\n",
       "education_level            460\n",
       "major_discipline          2813\n",
       "experience                  65\n",
       "company_size              5938\n",
       "company_type              6140\n",
       "last_new_job               423\n",
       "training_hours               0\n",
       "target                       0\n",
       "dtype: int64"
      ]
     },
     "execution_count": 7,
     "metadata": {},
     "output_type": "execute_result"
    }
   ],
   "source": [
    "df.isna().sum()"
   ]
  },
  {
   "cell_type": "code",
   "execution_count": 8,
   "id": "f42a6d75",
   "metadata": {},
   "outputs": [
    {
     "data": {
      "text/plain": [
       "enrollee_id                 int64\n",
       "city                       object\n",
       "city_development_index    float64\n",
       "gender                     object\n",
       "relevent_experience        object\n",
       "enrolled_university        object\n",
       "education_level            object\n",
       "major_discipline           object\n",
       "experience                 object\n",
       "company_size               object\n",
       "company_type               object\n",
       "last_new_job               object\n",
       "training_hours              int64\n",
       "target                    float64\n",
       "dtype: object"
      ]
     },
     "execution_count": 8,
     "metadata": {},
     "output_type": "execute_result"
    }
   ],
   "source": [
    "df.dtypes"
   ]
  },
  {
   "cell_type": "code",
   "execution_count": 9,
   "id": "c297737e",
   "metadata": {},
   "outputs": [
    {
     "data": {
      "image/png": "[encoded data removed]",
      "text/plain": [
       "<Figure size 1440x1080 with 2 Axes>"
      ]
     },
     "metadata": {
      "needs_background": "light"
     },
     "output_type": "display_data"
    }
   ],
   "source": [
    "fraqgraph=df.select_dtypes(include=['float'])\n",
    "fraqgraph.hist(figsize=(20,15))\n",
    "plt.show()"
   ]
  },
  {
   "cell_type": "code",
   "execution_count": 10,
   "id": "5c78ae5a",
   "metadata": {},
   "outputs": [
    {
     "data": {
      "text/plain": [
       "Index(['enrollee_id', 'city', 'city_development_index', 'gender',\n",
       "       'relevent_experience', 'enrolled_university', 'education_level',\n",
       "       'major_discipline', 'experience', 'company_size', 'company_type',\n",
       "       'last_new_job', 'training_hours', 'target'],\n",
       "      dtype='object')"
      ]
     },
     "execution_count": 10,
     "metadata": {},
     "output_type": "execute_result"
    }
   ],
   "source": [
    "df.columns"
   ]
  },
  {
   "cell_type": "code",
   "execution_count": 11,
   "id": "6ef5ea58",
   "metadata": {},
   "outputs": [
    {
     "name": "stdout",
     "output_type": "stream",
     "text": [
      "8 columns have missing values.\n",
      "--------------------------------------\n"
     ]
    },
    {
     "data": {
      "text/html": [
       "<style type=\"text/css\">\n",
       "#T_d427b_row0_col0 {\n",
       "  background-color: #66a1b0;\n",
       "  color: #f1f1f1;\n",
       "}\n",
       "#T_d427b_row0_col1 {\n",
       "  background-color: #629fae;\n",
       "  color: #f1f1f1;\n",
       "}\n",
       "#T_d427b_row1_col0 {\n",
       "  background-color: #e5ecee;\n",
       "  color: #000000;\n",
       "}\n",
       "#T_d427b_row1_col1, #T_d427b_row2_col0, #T_d427b_row2_col1, #T_d427b_row7_col1 {\n",
       "  background-color: #e2eaed;\n",
       "  color: #000000;\n",
       "}\n",
       "#T_d427b_row3_col0 {\n",
       "  background-color: #9ac0ca;\n",
       "  color: #000000;\n",
       "}\n",
       "#T_d427b_row3_col1 {\n",
       "  background-color: #97bec8;\n",
       "  color: #000000;\n",
       "}\n",
       "#T_d427b_row4_col0, #T_d427b_row4_col1 {\n",
       "  background-color: #eef1f2;\n",
       "  color: #000000;\n",
       "}\n",
       "#T_d427b_row5_col0 {\n",
       "  background-color: #3a879b;\n",
       "  color: #f1f1f1;\n",
       "}\n",
       "#T_d427b_row5_col1 {\n",
       "  background-color: #39879a;\n",
       "  color: #f1f1f1;\n",
       "}\n",
       "#T_d427b_row6_col0, #T_d427b_row6_col1 {\n",
       "  background-color: #348498;\n",
       "  color: #f1f1f1;\n",
       "}\n",
       "#T_d427b_row7_col0 {\n",
       "  background-color: #e3ebed;\n",
       "  color: #000000;\n",
       "}\n",
       "</style>\n",
       "<table id=\"T_d427b_\">\n",
       "  <thead>\n",
       "    <tr>\n",
       "      <th class=\"blank level0\" >&nbsp;</th>\n",
       "      <th class=\"col_heading level0 col0\" >null_numm</th>\n",
       "      <th class=\"col_heading level0 col1\" >null_percent</th>\n",
       "    </tr>\n",
       "  </thead>\n",
       "  <tbody>\n",
       "    <tr>\n",
       "      <th id=\"T_d427b_level0_row0\" class=\"row_heading level0 row0\" >gender</th>\n",
       "      <td id=\"T_d427b_row0_col0\" class=\"data row0 col0\" >4508</td>\n",
       "      <td id=\"T_d427b_row0_col1\" class=\"data row0 col1\" >0.240000</td>\n",
       "    </tr>\n",
       "    <tr>\n",
       "      <th id=\"T_d427b_level0_row1\" class=\"row_heading level0 row1\" >enrolled_university</th>\n",
       "      <td id=\"T_d427b_row1_col0\" class=\"data row1 col0\" >386</td>\n",
       "      <td id=\"T_d427b_row1_col1\" class=\"data row1 col1\" >0.020000</td>\n",
       "    </tr>\n",
       "    <tr>\n",
       "      <th id=\"T_d427b_level0_row2\" class=\"row_heading level0 row2\" >education_level</th>\n",
       "      <td id=\"T_d427b_row2_col0\" class=\"data row2 col0\" >460</td>\n",
       "      <td id=\"T_d427b_row2_col1\" class=\"data row2 col1\" >0.020000</td>\n",
       "    </tr>\n",
       "    <tr>\n",
       "      <th id=\"T_d427b_level0_row3\" class=\"row_heading level0 row3\" >major_discipline</th>\n",
       "      <td id=\"T_d427b_row3_col0\" class=\"data row3 col0\" >2813</td>\n",
       "      <td id=\"T_d427b_row3_col1\" class=\"data row3 col1\" >0.150000</td>\n",
       "    </tr>\n",
       "    <tr>\n",
       "      <th id=\"T_d427b_level0_row4\" class=\"row_heading level0 row4\" >experience</th>\n",
       "      <td id=\"T_d427b_row4_col0\" class=\"data row4 col0\" >65</td>\n",
       "      <td id=\"T_d427b_row4_col1\" class=\"data row4 col1\" >0.000000</td>\n",
       "    </tr>\n",
       "    <tr>\n",
       "      <th id=\"T_d427b_level0_row5\" class=\"row_heading level0 row5\" >company_size</th>\n",
       "      <td id=\"T_d427b_row5_col0\" class=\"data row5 col0\" >5938</td>\n",
       "      <td id=\"T_d427b_row5_col1\" class=\"data row5 col1\" >0.310000</td>\n",
       "    </tr>\n",
       "    <tr>\n",
       "      <th id=\"T_d427b_level0_row6\" class=\"row_heading level0 row6\" >company_type</th>\n",
       "      <td id=\"T_d427b_row6_col0\" class=\"data row6 col0\" >6140</td>\n",
       "      <td id=\"T_d427b_row6_col1\" class=\"data row6 col1\" >0.320000</td>\n",
       "    </tr>\n",
       "    <tr>\n",
       "      <th id=\"T_d427b_level0_row7\" class=\"row_heading level0 row7\" >last_new_job</th>\n",
       "      <td id=\"T_d427b_row7_col0\" class=\"data row7 col0\" >423</td>\n",
       "      <td id=\"T_d427b_row7_col1\" class=\"data row7 col1\" >0.020000</td>\n",
       "    </tr>\n",
       "  </tbody>\n",
       "</table>\n"
      ],
      "text/plain": [
       "<pandas.io.formats.style.Styler at 0x2c65a088280>"
      ]
     },
     "execution_count": 11,
     "metadata": {},
     "output_type": "execute_result"
    }
   ],
   "source": [
    "num_null = {}\n",
    "percent_null = {}\n",
    "nul_list = []\n",
    "num = df.shape[0]\n",
    "for col in df.columns.tolist():\n",
    "    col_null = df[col].isnull().sum()\n",
    "    if col_null > 0:\n",
    "        num_null[col] = col_null\n",
    "        percent_null[col] = round(col_null/num,2)\n",
    "        nul_list.append(col)\n",
    "num_ = pd.Series(num_null)\n",
    "per_ = pd.Series(percent_null)\n",
    "con = pd.concat([num_,per_],axis=1).rename(columns={0:\"null_numm\",1:\"null_percent\"})\n",
    "\n",
    "cm = sns.light_palette(\"#348498\", as_cmap=True)\n",
    "print(\"{} columns have missing values.\".format(df.isnull().any().sum()))\n",
    "print(\"--------------------------------------\")\n",
    "con.style.background_gradient(cmap=cm,subset=con.columns.tolist())\n"
   ]
  },
  {
   "cell_type": "code",
   "execution_count": 12,
   "id": "c691c056",
   "metadata": {},
   "outputs": [],
   "source": [
    "#Creating a dataframe exclusively for categorical data\n",
    "cat_col_df = df.drop(['city_development_index','training_hours','target'], axis=1)"
   ]
  },
  {
   "cell_type": "code",
   "execution_count": 13,
   "id": "caaf4b7d",
   "metadata": {},
   "outputs": [],
   "source": [
    "for col in cat_col_df.columns:\n",
    "    df[col] = df[col].fillna(df[col].mode()[0])"
   ]
  },
  {
   "cell_type": "code",
   "execution_count": 14,
   "id": "dd601ebf",
   "metadata": {},
   "outputs": [
    {
     "data": {
      "text/plain": [
       "enrollee_id               0\n",
       "city                      0\n",
       "city_development_index    0\n",
       "gender                    0\n",
       "relevent_experience       0\n",
       "enrolled_university       0\n",
       "education_level           0\n",
       "major_discipline          0\n",
       "experience                0\n",
       "company_size              0\n",
       "company_type              0\n",
       "last_new_job              0\n",
       "training_hours            0\n",
       "target                    0\n",
       "dtype: int64"
      ]
     },
     "execution_count": 14,
     "metadata": {},
     "output_type": "execute_result"
    }
   ],
   "source": [
    "df.isna().sum()"
   ]
  },
  {
   "cell_type": "raw",
   "id": "d83156ab",
   "metadata": {},
   "source": [
    "2)Outlier detection and handling"
   ]
  },
  {
   "cell_type": "code",
   "execution_count": 15,
   "id": "74a4b565",
   "metadata": {},
   "outputs": [
    {
     "data": {
      "text/plain": [
       "0.0    14381\n",
       "1.0     4777\n",
       "Name: target, dtype: int64"
      ]
     },
     "execution_count": 15,
     "metadata": {},
     "output_type": "execute_result"
    }
   ],
   "source": [
    "df['target'].value_counts()"
   ]
  },
  {
   "cell_type": "code",
   "execution_count": 16,
   "id": "ce2cbae6",
   "metadata": {},
   "outputs": [
    {
     "data": {
      "text/plain": [
       "0.0    0.750652\n",
       "1.0    0.249348\n",
       "Name: target, dtype: float64"
      ]
     },
     "execution_count": 16,
     "metadata": {},
     "output_type": "execute_result"
    }
   ],
   "source": [
    "df['target'].value_counts(normalize=True)"
   ]
  },
  {
   "cell_type": "raw",
   "id": "cfc75a14",
   "metadata": {},
   "source": [
    "5)Standardization/normalization"
   ]
  },
  {
   "cell_type": "code",
   "execution_count": 17,
   "id": "aed20967",
   "metadata": {},
   "outputs": [],
   "source": [
    "from sklearn.preprocessing import StandardScaler\n"
   ]
  },
  {
   "cell_type": "code",
   "execution_count": 19,
   "id": "23f8b307",
   "metadata": {},
   "outputs": [],
   "source": [
    "X = df.drop(\"target\", axis=1)\n",
    "y = df[\"target\"]"
   ]
  },
  {
   "cell_type": "code",
   "execution_count": 20,
   "id": "57557464",
   "metadata": {},
   "outputs": [],
   "source": [
    "from sklearn.model_selection import train_test_split\n",
    "from sklearn.preprocessing import StandardScaler\n",
    "x_train, x_test, y_train, y_test = train_test_split(X, y, test_size=0.3,random_state=44, shuffle =True)"
   ]
  },
  {
   "cell_type": "raw",
   "id": "1b0024d5",
   "metadata": {},
   "source": [
    "Encoding\n",
    "label encoading"
   ]
  },
  {
   "cell_type": "code",
   "execution_count": 21,
   "id": "66589d16",
   "metadata": {},
   "outputs": [],
   "source": [
    "from sklearn.preprocessing import LabelEncoder\n",
    "enc = LabelEncoder()"
   ]
  },
  {
   "cell_type": "code",
   "execution_count": 22,
   "id": "3755ccc8",
   "metadata": {},
   "outputs": [
    {
     "name": "stdout",
     "output_type": "stream",
     "text": [
      "city\n",
      "gender\n",
      "relevent_experience\n",
      "enrolled_university\n",
      "education_level\n",
      "major_discipline\n",
      "experience\n",
      "company_size\n",
      "company_type\n",
      "last_new_job\n"
     ]
    }
   ],
   "source": [
    "le = LabelEncoder()\n",
    "categorical = list(df.select_dtypes(include=['object','string']).columns.values)\n",
    "for cat in categorical:\n",
    "    print(cat)\n",
    "    df[cat].fillna('UNK', inplace=True)\n",
    "    df[cat] = le.fit_transform(df[cat])\n",
    "#     print(le.classes_)\n",
    "#     print(le.transform(le.classes_))"
   ]
  },
  {
   "cell_type": "code",
   "execution_count": 23,
   "id": "e713f543",
   "metadata": {},
   "outputs": [],
   "source": [
    "for col in df.columns:\n",
    "    df[col] = enc.fit_transform(df[col])"
   ]
  },
  {
   "cell_type": "code",
   "execution_count": 25,
   "id": "d7f4dc28",
   "metadata": {},
   "outputs": [],
   "source": [
    "df= df.drop(df.loc[df[\"gender\"] == \"Other\"].index)\n",
    "df = df.dropna()\n"
   ]
  },
  {
   "cell_type": "code",
   "execution_count": 26,
   "id": "78a111ae",
   "metadata": {},
   "outputs": [
    {
     "data": {
      "text/html": [
       "<div>\n",
       "<style scoped>\n",
       "    .dataframe tbody tr th:only-of-type {\n",
       "        vertical-align: middle;\n",
       "    }\n",
       "\n",
       "    .dataframe tbody tr th {\n",
       "        vertical-align: top;\n",
       "    }\n",
       "\n",
       "    .dataframe thead th {\n",
       "        text-align: right;\n",
       "    }\n",
       "</style>\n",
       "<table border=\"1\" class=\"dataframe\">\n",
       "  <thead>\n",
       "    <tr style=\"text-align: right;\">\n",
       "      <th></th>\n",
       "      <th>enrollee_id</th>\n",
       "      <th>city</th>\n",
       "      <th>city_development_index</th>\n",
       "      <th>relevent_experience</th>\n",
       "      <th>enrolled_university</th>\n",
       "      <th>education_level</th>\n",
       "      <th>major_discipline</th>\n",
       "      <th>experience</th>\n",
       "      <th>company_size</th>\n",
       "      <th>company_type</th>\n",
       "      <th>last_new_job</th>\n",
       "      <th>training_hours</th>\n",
       "      <th>target</th>\n",
       "      <th>gender</th>\n",
       "    </tr>\n",
       "  </thead>\n",
       "  <tbody>\n",
       "    <tr>\n",
       "      <th>0</th>\n",
       "      <td>5018</td>\n",
       "      <td>5</td>\n",
       "      <td>85</td>\n",
       "      <td>0</td>\n",
       "      <td>2</td>\n",
       "      <td>0</td>\n",
       "      <td>5</td>\n",
       "      <td>21</td>\n",
       "      <td>4</td>\n",
       "      <td>5</td>\n",
       "      <td>0</td>\n",
       "      <td>35</td>\n",
       "      <td>1</td>\n",
       "      <td>1</td>\n",
       "    </tr>\n",
       "    <tr>\n",
       "      <th>1</th>\n",
       "      <td>16986</td>\n",
       "      <td>77</td>\n",
       "      <td>48</td>\n",
       "      <td>1</td>\n",
       "      <td>2</td>\n",
       "      <td>0</td>\n",
       "      <td>5</td>\n",
       "      <td>6</td>\n",
       "      <td>4</td>\n",
       "      <td>5</td>\n",
       "      <td>4</td>\n",
       "      <td>46</td>\n",
       "      <td>0</td>\n",
       "      <td>1</td>\n",
       "    </tr>\n",
       "    <tr>\n",
       "      <th>2</th>\n",
       "      <td>6499</td>\n",
       "      <td>64</td>\n",
       "      <td>14</td>\n",
       "      <td>1</td>\n",
       "      <td>0</td>\n",
       "      <td>0</td>\n",
       "      <td>5</td>\n",
       "      <td>15</td>\n",
       "      <td>4</td>\n",
       "      <td>5</td>\n",
       "      <td>5</td>\n",
       "      <td>82</td>\n",
       "      <td>0</td>\n",
       "      <td>1</td>\n",
       "    </tr>\n",
       "    <tr>\n",
       "      <th>3</th>\n",
       "      <td>19067</td>\n",
       "      <td>14</td>\n",
       "      <td>52</td>\n",
       "      <td>1</td>\n",
       "      <td>2</td>\n",
       "      <td>0</td>\n",
       "      <td>1</td>\n",
       "      <td>20</td>\n",
       "      <td>4</td>\n",
       "      <td>5</td>\n",
       "      <td>5</td>\n",
       "      <td>51</td>\n",
       "      <td>1</td>\n",
       "      <td>1</td>\n",
       "    </tr>\n",
       "    <tr>\n",
       "      <th>4</th>\n",
       "      <td>358</td>\n",
       "      <td>50</td>\n",
       "      <td>45</td>\n",
       "      <td>0</td>\n",
       "      <td>2</td>\n",
       "      <td>2</td>\n",
       "      <td>5</td>\n",
       "      <td>21</td>\n",
       "      <td>4</td>\n",
       "      <td>1</td>\n",
       "      <td>3</td>\n",
       "      <td>7</td>\n",
       "      <td>0</td>\n",
       "      <td>1</td>\n",
       "    </tr>\n",
       "  </tbody>\n",
       "</table>\n",
       "</div>"
      ],
      "text/plain": [
       "   enrollee_id  city  city_development_index  relevent_experience  \\\n",
       "0         5018     5                      85                    0   \n",
       "1        16986    77                      48                    1   \n",
       "2         6499    64                      14                    1   \n",
       "3        19067    14                      52                    1   \n",
       "4          358    50                      45                    0   \n",
       "\n",
       "   enrolled_university  education_level  major_discipline  experience  \\\n",
       "0                    2                0                 5          21   \n",
       "1                    2                0                 5           6   \n",
       "2                    0                0                 5          15   \n",
       "3                    2                0                 1          20   \n",
       "4                    2                2                 5          21   \n",
       "\n",
       "   company_size  company_type  last_new_job  training_hours  target  gender  \n",
       "0             4             5             0              35       1       1  \n",
       "1             4             5             4              46       0       1  \n",
       "2             4             5             5              82       0       1  \n",
       "3             4             5             5              51       1       1  \n",
       "4             4             1             3               7       0       1  "
      ]
     },
     "execution_count": 26,
     "metadata": {},
     "output_type": "execute_result"
    }
   ],
   "source": [
    "def cate_one(df,*strname):\n",
    "    strname = list(strname)\n",
    "    dataset = df.copy()\n",
    "    getdum = pd.get_dummies(dataset[strname])\n",
    "    dataset = dataset.drop(strname,axis=1)\n",
    "    dataset = pd.concat([dataset,getdum],axis=1)\n",
    "    \n",
    "    return dataset\n",
    "\n",
    "df= cate_one(df,\"gender\")\n",
    "\n",
    "\n",
    "df.head()"
   ]
  },
  {
   "cell_type": "raw",
   "id": "84f050ef",
   "metadata": {},
   "source": [
    " 3)Exploratory Data Analysis"
   ]
  },
  {
   "cell_type": "raw",
   "id": "e1967a97",
   "metadata": {},
   "source": [
    "a)Univariate analysis"
   ]
  },
  {
   "cell_type": "code",
   "execution_count": 28,
   "id": "9e414f9f",
   "metadata": {},
   "outputs": [
    {
     "data": {
      "image/png": "[encoded data removed]",
      "text/plain": [
       "<Figure size 504x360 with 1 Axes>"
      ]
     },
     "metadata": {
      "needs_background": "light"
     },
     "output_type": "display_data"
    }
   ],
   "source": [
    "bars = df['target'].value_counts()\n",
    "plt.figure(figsize=(7,5))\n",
    "graph = plt.bar(['not searching for new job', 'searching for new job'], bars.values)\n",
    "plt.title('distribution of target')\n",
    "plt.xlabel('target values')\n",
    "plt.ylabel('count')\n",
    "\n",
    "\n",
    "i = 0\n",
    "for p in graph:\n",
    "    width = p.get_width()\n",
    "    height = p.get_height()\n",
    "    x, y = p.get_xy()\n",
    "     \n",
    "    plt.text(x+width/2,\n",
    "             y+height*1.01+1,\n",
    "             str(round(100*bars[i]/df['target'].count()))+'%',\n",
    "             ha='center')\n",
    "    i += 1"
   ]
  },
  {
   "cell_type": "code",
   "execution_count": 29,
   "id": "697d6fdd",
   "metadata": {},
   "outputs": [
    {
     "name": "stdout",
     "output_type": "stream",
     "text": [
      "cities' number in dataset is  123\n"
     ]
    },
    {
     "data": {
      "image/png": "[encoded data removed]",
      "text/plain": [
       "<Figure size 720x360 with 1 Axes>"
      ]
     },
     "metadata": {
      "needs_background": "light"
     },
     "output_type": "display_data"
    }
   ],
   "source": [
    "res = df.groupby('city').count().sort_values('enrollee_id', ascending=False).head(10)['enrollee_id']\n",
    "\n",
    "print(\"cities' number in dataset is \", len(df.groupby('city').count().reset_index()['city']))\n",
    "\n",
    "plt.figure(figsize=(10,5))\n",
    "graph = plt.bar([str(i) for i in res.keys()], res.values)\n",
    "plt.title('Cities with the most candidates, Top 10 cities')\n",
    "plt.xlabel('city')\n",
    "plt.ylabel('count')\n",
    "\n",
    "\n",
    "i = 0\n",
    "for p in graph:\n",
    "    width = p.get_width()\n",
    "    height = p.get_height()\n",
    "    x, y = p.get_xy()\n",
    "    plt.text(x+width/2,\n",
    "             y+height*1.01+1,\n",
    "             str(round(100*res.values[i]/df['target'].count()))+'%',\n",
    "             ha='center')\n",
    "    i += 1"
   ]
  },
  {
   "cell_type": "markdown",
   "id": "f9e5ab32",
   "metadata": {},
   "source": [
    "Out of the 123 cities, we can see that the top 4 cities represent over half of the candidates, with city_103 accounting for almost a quarter.\n",
    "\n"
   ]
  },
  {
   "cell_type": "raw",
   "id": "e330c750",
   "metadata": {},
   "source": [
    "b)Bivariate analysis"
   ]
  },
  {
   "cell_type": "code",
   "execution_count": 30,
   "id": "2b40c771",
   "metadata": {},
   "outputs": [
    {
     "data": {
      "image/png": "[encoded data removed]",
      "text/plain": [
       "<Figure size 720x360 with 1 Axes>"
      ]
     },
     "metadata": {
      "needs_background": "light"
     },
     "output_type": "display_data"
    }
   ],
   "source": [
    "res2 = df.groupby(['city','target']).count().loc[res.keys(),:]\n",
    "\n",
    "res20 = res2.loc[:,0,:]['enrollee_id']\n",
    "res21 = res2.loc[:,1,:]['enrollee_id']\n",
    "\n",
    "f_name = [res21[i[0]].values[0] for i in res21.keys()]\n",
    "\n",
    "plt.figure(figsize=(10,5))\n",
    "plt.bar([str(i[0]) for i in res21.keys()], [100 for i in res21.keys()], label='Not searching for a new job')\n",
    "plt.bar([str(i[0]) for i in res21.keys()], [100*res21[i[0]].values[0]/(res21[i[0]].values[0]+res20[i[0]].values[0]) for i in res21.keys()], label='searching for a new job')\n",
    "plt.title('Relationship between city and job search')\n",
    "plt.xlabel('city')\n",
    "plt.ylabel('percent')\n",
    "plt.legend();"
   ]
  },
  {
   "cell_type": "markdown",
   "id": "65330c27",
   "metadata": {},
   "source": [
    "In the top 10 cities with the most candidates, the proportion of candidates searching for a new job is lower, with the exception of city_21."
   ]
  },
  {
   "cell_type": "code",
   "execution_count": 31,
   "id": "24b0ac10",
   "metadata": {},
   "outputs": [
    {
     "data": {
      "image/png": "[encoded data removed]",
      "text/plain": [
       "<Figure size 720x360 with 1 Axes>"
      ]
     },
     "metadata": {
      "needs_background": "light"
     },
     "output_type": "display_data"
    }
   ],
   "source": [
    "res = df.groupby('gender').count()['enrollee_id']\n",
    "\n",
    "plt.figure(figsize=(10,5))\n",
    "graph = plt.bar([str(i) for i in res.keys()], res.values, color=['blue', 'red', 'green'])\n",
    "plt.title('gender distribution')\n",
    "plt.xlabel('gender')\n",
    "plt.ylabel('count')\n",
    "\n",
    "\n",
    "i = 0\n",
    "for p in graph:\n",
    "    width = p.get_width()\n",
    "    height = p.get_height()\n",
    "    x, y = p.get_xy()\n",
    "     \n",
    "    plt.text(x+width/2,\n",
    "             y+height*1.01+1,\n",
    "             str(round(100*res.values[i]/df['target'].count()))+'%',\n",
    "             ha='center')\n",
    "    i += 1"
   ]
  },
  {
   "cell_type": "markdown",
   "id": "d03bd73a",
   "metadata": {},
   "source": [
    "sum of bars percent is less than 100. it means a significant number of participants didn’t share their gender.\n",
    "\n",
    "In this sample, males make up a majority of participants."
   ]
  },
  {
   "cell_type": "code",
   "execution_count": 32,
   "id": "cc42652c",
   "metadata": {},
   "outputs": [
    {
     "data": {
      "image/png": "[encoded data removed]",
      "text/plain": [
       "<Figure size 720x360 with 1 Axes>"
      ]
     },
     "metadata": {
      "needs_background": "light"
     },
     "output_type": "display_data"
    }
   ],
   "source": [
    "res = df.groupby('gender').count().sort_values('enrollee_id', ascending=False)['enrollee_id']\n",
    "\n",
    "res2 = df.groupby(['gender','target']).count().loc[res.keys(),:]\n",
    "\n",
    "res20 = res2.loc[:,0,:]['enrollee_id']\n",
    "res21 = res2.loc[:,1,:]['enrollee_id']\n",
    "f_index = [res21[i[0]].values[0] for i in res21.keys()]\n",
    "\n",
    "plt.figure(figsize=(10,5))\n",
    "plt.bar([str(i[0]) for i in res21.keys()], [100 for i in res21.keys()], label='Not searching for a new job')\n",
    "plt.bar([str(i[0]) for i in res21.keys()], [100*res21[i[0]].values[0]/(res21[i[0]].values[0]+res20[i[0]].values[0]) for i in res21.keys()], label='searching for a new job')\n",
    "plt.title('Relationship between gender and job search')\n",
    "plt.xlabel('gender')\n",
    "plt.ylabel('percent')\n",
    "plt.legend();"
   ]
  },
  {
   "cell_type": "markdown",
   "id": "89efd2d2",
   "metadata": {},
   "source": [
    "The percentage of people looking for a new job is almost the same for all genders. The distribution of job seekers in different categories of gender seems to be the same. If the distribution of job seekers is the same in all categories, it indicates that the two variables are independent of each other. Gender has no effect on changing the proportion of job seekers. We use the independence test to prove it.\n",
    "\n",
    "In order to compute the Chi-square test statistic. we would need to construct a contingency table. We can do that using the ‘crosstab’ function from pandas.\n",
    "\n"
   ]
  },
  {
   "cell_type": "code",
   "execution_count": 36,
   "id": "786ce738",
   "metadata": {},
   "outputs": [
    {
     "data": {
      "text/html": [
       "<div>\n",
       "<style scoped>\n",
       "    .dataframe tbody tr th:only-of-type {\n",
       "        vertical-align: middle;\n",
       "    }\n",
       "\n",
       "    .dataframe tbody tr th {\n",
       "        vertical-align: top;\n",
       "    }\n",
       "\n",
       "    .dataframe thead th {\n",
       "        text-align: right;\n",
       "    }\n",
       "</style>\n",
       "<table border=\"1\" class=\"dataframe\">\n",
       "  <thead>\n",
       "    <tr style=\"text-align: right;\">\n",
       "      <th>gender</th>\n",
       "      <th>0</th>\n",
       "      <th>1</th>\n",
       "      <th>2</th>\n",
       "    </tr>\n",
       "    <tr>\n",
       "      <th>target</th>\n",
       "      <th></th>\n",
       "      <th></th>\n",
       "      <th></th>\n",
       "    </tr>\n",
       "  </thead>\n",
       "  <tbody>\n",
       "    <tr>\n",
       "      <th>0</th>\n",
       "      <td>912</td>\n",
       "      <td>13328</td>\n",
       "      <td>141</td>\n",
       "    </tr>\n",
       "    <tr>\n",
       "      <th>1</th>\n",
       "      <td>326</td>\n",
       "      <td>4401</td>\n",
       "      <td>50</td>\n",
       "    </tr>\n",
       "  </tbody>\n",
       "</table>\n",
       "</div>"
      ],
      "text/plain": [
       "gender    0      1    2\n",
       "target                 \n",
       "0       912  13328  141\n",
       "1       326   4401   50"
      ]
     },
     "execution_count": 36,
     "metadata": {},
     "output_type": "execute_result"
    }
   ],
   "source": [
    "ct = pd.crosstab(df.target, df.gender)\n",
    "ct"
   ]
  },
  {
   "cell_type": "code",
   "execution_count": 37,
   "id": "1965389b",
   "metadata": {},
   "outputs": [
    {
     "name": "stdout",
     "output_type": "stream",
     "text": [
      "x^2: 1.5672279776145268 p_val: 0.45675232710915714 df: 2\n"
     ]
    }
   ],
   "source": [
    "from scipy.stats import chi2_contingency\n",
    "\n",
    "obs = np.array([ct.iloc[0][:].values,\n",
    "                  ct.iloc[1][:].values])\n",
    "print('x^2:',chi2_contingency(obs)[0],'p_val:',chi2_contingency(obs)[1],'df:',chi2_contingency(obs)[2])"
   ]
  },
  {
   "cell_type": "markdown",
   "id": "416281b3",
   "metadata": {},
   "source": [
    "The value of p_value is less than alpha, ie 0.05. This means that the null hypothesis is rejected and two variables are dependent. That is, knowing the gender of the candidate give us information about whether the person will be looking for a new job. The p_value value is not too far from alpha. That is, the relationship between the two variables was not very strong. The relationship between the two is close to being independent rather than a very strong connection."
   ]
  },
  {
   "cell_type": "code",
   "execution_count": 38,
   "id": "19f9b367",
   "metadata": {},
   "outputs": [
    {
     "data": {
      "image/png": "[encoded data removed]",
      "text/plain": [
       "<Figure size 720x360 with 1 Axes>"
      ]
     },
     "metadata": {
      "needs_background": "light"
     },
     "output_type": "display_data"
    }
   ],
   "source": [
    "res = df.groupby('education_level').count().sort_values('enrollee_id', ascending=False)['enrollee_id']\n",
    "\n",
    "res2 = df.groupby(['education_level','target']).count().loc[res.keys(),:]\n",
    "\n",
    "res20 = res2.loc[:,0,:]['enrollee_id']\n",
    "res21 = res2.loc[:,1,:]['enrollee_id']\n",
    "f_index = [100*res21[i[0]].values[0]/(res21[i[0]].values[0]+res20[i[0]].values[0]) for i in res21.keys()]\n",
    "\n",
    "plt.figure(figsize=(10,5))\n",
    "plt.bar([str(i[0]) for i in res21.keys()], [100 for i in res21.keys()], label='Not searching for a new job')\n",
    "plt.bar([str(i[0]) for i in res21.keys()], [100*res21[i[0]].values[0]/(res21[i[0]].values[0]+res20[i[0]].values[0]) for i in res21.keys()], label='searching for a new job')\n",
    "plt.title('Relationship between education_level and job search')\n",
    "plt.xlabel('education_level')\n",
    "plt.ylabel('percent')\n",
    "plt.legend();"
   ]
  },
  {
   "cell_type": "code",
   "execution_count": 39,
   "id": "55f840c3",
   "metadata": {},
   "outputs": [
    {
     "data": {
      "image/png": "[encoded data removed]",
      "text/plain": [
       "<Figure size 864x360 with 1 Axes>"
      ]
     },
     "metadata": {
      "needs_background": "light"
     },
     "output_type": "display_data"
    }
   ],
   "source": [
    "res = df.groupby('experience').count().sort_values('enrollee_id', ascending=False)['enrollee_id']\n",
    "\n",
    "plt.figure(figsize=(12,5))\n",
    "graph = plt.bar([str(i) for i in res.keys()], res.values)\n",
    "plt.title('experience distribution')\n",
    "plt.xlabel('experience')\n",
    "plt.ylabel('count')\n",
    "\n",
    "\n",
    "i = 0\n",
    "for p in graph:\n",
    "    width = p.get_width()\n",
    "    height = p.get_height()\n",
    "    x, y = p.get_xy()\n",
    "     \n",
    "    plt.text(x+width/2,\n",
    "             y+height*1.01,\n",
    "             str(round(100*res.values[i]/df['target'].count(),1))+'%',\n",
    "             ha='center')\n",
    "    i += 1"
   ]
  },
  {
   "cell_type": "markdown",
   "id": "3e8a8103",
   "metadata": {},
   "source": [
    "In this sample, over 50% of candidates have between 2 and 10 years of work experience.\n"
   ]
  },
  {
   "cell_type": "code",
   "execution_count": 40,
   "id": "f146dba8",
   "metadata": {},
   "outputs": [
    {
     "data": {
      "image/png": "[encoded data removed]",
      "text/plain": [
       "<Figure size 720x360 with 1 Axes>"
      ]
     },
     "metadata": {
      "needs_background": "light"
     },
     "output_type": "display_data"
    }
   ],
   "source": [
    "res = df.groupby('experience').count().sort_values('enrollee_id', ascending=False)['enrollee_id']\n",
    "\n",
    "res2 = df.groupby(['experience','target']).count().loc[res.keys(),:]\n",
    "\n",
    "res20 = res2.loc[:,0,:]['enrollee_id']\n",
    "res21 = res2.loc[:,1,:]['enrollee_id']\n",
    "f_index = [100*res21[i[0]].values[0]/(res21[i[0]].values[0]+res20[i[0]].values[0]) for i in res21.keys()]\n",
    "\n",
    "plt.figure(figsize=(10,5))\n",
    "plt.bar([str(i[0]) for i in res21.keys()], [100 for i in res21.keys()], label='Not searching for a new job')\n",
    "plt.bar([str(i[0]) for i in res21.keys()], [100*res21[i[0]].values[0]/(res21[i[0]].values[0]+res20[i[0]].values[0]) for i in res21.keys()], label='searching for a new job')\n",
    "plt.title('Relationship between experience and job search')\n",
    "plt.xlabel('experience')\n",
    "plt.ylabel('percent')\n",
    "plt.legend();"
   ]
  },
  {
   "cell_type": "markdown",
   "id": "c5f0f90b",
   "metadata": {},
   "source": [
    "The less work experience, the more probable the candidate is searching for a new job.\n"
   ]
  },
  {
   "cell_type": "raw",
   "id": "8dc9fe0d",
   "metadata": {},
   "source": [
    "We use correlation to examine the relationship between numerical variables. Of course, correlation only examines linear relationship."
   ]
  },
  {
   "cell_type": "code",
   "execution_count": 41,
   "id": "6676e698",
   "metadata": {},
   "outputs": [
    {
     "data": {
      "text/plain": [
       "Text(0.5, 1.0, 'Correlation Heatmap')"
      ]
     },
     "execution_count": 41,
     "metadata": {},
     "output_type": "execute_result"
    },
    {
     "data": {
      "image/png": "[encoded data removed]",
      "text/plain": [
       "<Figure size 432x288 with 2 Axes>"
      ]
     },
     "metadata": {
      "needs_background": "light"
     },
     "output_type": "display_data"
    }
   ],
   "source": [
    "sns.heatmap(df.corr(), annot=True)\n",
    "plt.title('Correlation Heatmap', weight='bold',fontsize=20)"
   ]
  },
  {
   "cell_type": "markdown",
   "id": "e2c5fd63",
   "metadata": {},
   "source": [
    "As can be seen, there is a correlation between the target and the two variables of developmental criteria and training hours. The abs of the correlation between the target and the development criterion is greater than the abs of the correlation between the target and the training hours. That is, the relationship between the development criterion and the label is stronger. "
   ]
  },
  {
   "cell_type": "code",
   "execution_count": null,
   "id": "3274affa",
   "metadata": {},
   "outputs": [],
   "source": []
  }
 ],
 "metadata": {
  "kernelspec": {
   "display_name": "Python 3 (ipykernel)",
   "language": "python",
   "name": "python3"
  },
  "language_info": {
   "codemirror_mode": {
    "name": "ipython",
    "version": 3
   },
   "file_extension": ".py",
   "mimetype": "text/x-python",
   "name": "python",
   "nbconvert_exporter": "python",
   "pygments_lexer": "ipython3",
   "version": "3.9.7"
  }
 },
 "nbformat": 4,
 "nbformat_minor": 5
}
